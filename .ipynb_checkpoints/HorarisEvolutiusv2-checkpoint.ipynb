{
 "cells": [
  {
   "cell_type": "markdown",
   "metadata": {},
   "source": [
    "Coteaching- Nivells anglès se separa sa classe algunes de les hores\n",
    "Subclasses- Lab totes les hores els 2 profes"
   ]
  },
  {
   "cell_type": "markdown",
   "metadata": {},
   "source": [
    "En la figura 1 se muestran los slots horarios disponibles para una clase.\n",
    "Hay más de una clase y por tanto, el formato gráfico de las soluciones es la asignación de profesor y asignatura en los slots horarios de varias copias de la figura 1 (una por cada clase). Pueden quedar slots horarios vacíos ya que es posible que no haya necesidad de cubrir todos los slots horarios.\n",
    "No hay ningún alumno que esté en dos clases distintas. Pensad en los horarios de una escuela/instituto. Una clase es 1º ESO, una segunda clase es 2º ESO, etc.\n",
    "Cada profesor tiene asignadas como entrada una o varias asignaturas en una o varias clases. Por ejemplo, el profesor X debe dar las matemáticas de la clase 1 y la clase 3 y el profesor Y debe dar el catalán de la clase 1 y el castellano de la clase 2. Podéis considerar que salvo los casos especiales de subclases, cada asignatura sólo la da un único profesor.\n",
    "Cada asignatura tiene un determinado número de horas fijado en cada clase. Por ejemplo, las matemáticas de la clase 1 deben ocupar 3 slots horarios semanales.\n",
    "Cada profesor de entrada sólo puede dar clase unos días determinados de la semana (los días que se encuentra en el centro).\n",
    "Subclases: Determinadas asignaturas en determinadas clases las darán al mismo tiempo dos profesores, que se distribuirán la mitad de la clase cada uno. Si una asignatura se imparte con este método, será así durante todas las horas semanales asignadas a esta asignatura. Esta información viene dada en la entrada.\n",
    "Coteaching: Determinadas parejas de asignaturas en determinadas clases se darán con el formato de coteaching y por tanto, siempre las dos asignaturas de la pareja tendrán asignados los mismos slots horarios semanales. Esta información también viene dada en la entrada.\n",
    "En este artículo, suponemos que no hay problemas de aulas y de hecho no se asignan aulas en ningún momento.\n",
    "El formato de entrada de los datos es cuestión de cada grupo pero debe contener la información anterior. A modo de ejemplo:\n",
    "\n",
    "Clase 1: Asignatura 1 (3 slots, profesor 1); Asignatura 2 (2 slots, profesor 2); Asignatura 3 (4 slots, profesor 3); Asignatura 4 (3 slots, profesor 1); Asignatura 5 (3 slots, profesores 4 y 5, subclases); Asignatura 6 (3 slots, profesor 4, coteaching con asignatura 7); Asignatura 7 (3 slots, profesor 6, coteaching con asignatura 6).\n",
    "Clase 2: [...]\n",
    "[...]\n",
    "Clase n: [...]\n",
    "\n",
    "Profesor 1: No puede impartir clase los lunes.\n",
    "Profesor 2: No puede impartir clase martes y viernes.\n",
    "[...]\n",
    "Profesor m: No tiene ninguna restricción.\n",
    "\n",
    "Obviamente hay una serie de restricciones que se deben imponer:\n",
    "\n",
    "El número de slots horarios de una clase no puede ser mayor a 35. Tened cuidado con los co-teaching. La clase 1 del ejemplo anterior, tiene 18 slots horarios ocupados.\n",
    "Un profesor el número máximo de horas que puede impartir es 7 por el número de días de disponibilidad personal.\n",
    "Si tenéis más dudas, comentadlas por aquí y las iremos respondiendo.\n"
   ]
  },
  {
   "cell_type": "code",
   "execution_count": 1,
   "metadata": {},
   "outputs": [
    {
     "name": "stdout",
     "output_type": "stream",
     "text": [
      "         Assignatura1  Assignatura2  Assignatura3  Assignatura4  Assignatura5  \\\n",
      "Classe1  [3, 1, 0, 0]  [2, 2, 0, 0]  [4, 3, 0, 0]  [3, 1, 0, 0]  [3, 4, 5, 0]   \n",
      "Classe2  [3, 1, 0, 0]  [4, 2, 0, 4]  [3, 3, 0, 0]  [4, 4, 0, 2]  [6, 5, 0, 0]   \n",
      "\n",
      "         Assignatura6  Assignatura7  \n",
      "Classe1  [3, 4, 0, 7]  [3, 6, 0, 6]  \n",
      "Classe2  [2, 6, 0, 0]  [2, 1, 0, 0]  \n",
      "[array([1, 2, 3, 4, 5, 6, 7]), array([ 8,  9, 10, 11, 12, 13, 14, 29, 30, 31, 32, 33, 34, 35]), 0, 0, 0, 0]\n"
     ]
    },
    {
     "data": {
      "text/html": [
       "<div>\n",
       "<style scoped>\n",
       "    .dataframe tbody tr th:only-of-type {\n",
       "        vertical-align: middle;\n",
       "    }\n",
       "\n",
       "    .dataframe tbody tr th {\n",
       "        vertical-align: top;\n",
       "    }\n",
       "\n",
       "    .dataframe thead th {\n",
       "        text-align: right;\n",
       "    }\n",
       "</style>\n",
       "<table border=\"1\" class=\"dataframe\">\n",
       "  <thead>\n",
       "    <tr style=\"text-align: right;\">\n",
       "      <th></th>\n",
       "      <th>Assignatura1</th>\n",
       "      <th>Assignatura2</th>\n",
       "      <th>Assignatura3</th>\n",
       "      <th>Assignatura4</th>\n",
       "      <th>Assignatura5</th>\n",
       "      <th>Assignatura6</th>\n",
       "      <th>Assignatura7</th>\n",
       "    </tr>\n",
       "  </thead>\n",
       "  <tbody>\n",
       "    <tr>\n",
       "      <th>Classe1</th>\n",
       "      <td>[3, 1, 0, 0]</td>\n",
       "      <td>[2, 2, 0, 0]</td>\n",
       "      <td>[4, 3, 0, 0]</td>\n",
       "      <td>[3, 1, 0, 0]</td>\n",
       "      <td>[3, 4, 5, 0]</td>\n",
       "      <td>[3, 4, 0, 7]</td>\n",
       "      <td>[3, 6, 0, 6]</td>\n",
       "    </tr>\n",
       "    <tr>\n",
       "      <th>Classe2</th>\n",
       "      <td>[3, 1, 0, 0]</td>\n",
       "      <td>[4, 2, 0, 4]</td>\n",
       "      <td>[3, 3, 0, 0]</td>\n",
       "      <td>[4, 4, 0, 2]</td>\n",
       "      <td>[6, 5, 0, 0]</td>\n",
       "      <td>[2, 6, 0, 0]</td>\n",
       "      <td>[2, 1, 0, 0]</td>\n",
       "    </tr>\n",
       "  </tbody>\n",
       "</table>\n",
       "</div>"
      ],
      "text/plain": [
       "         Assignatura1  Assignatura2  Assignatura3  Assignatura4  Assignatura5  \\\n",
       "Classe1  [3, 1, 0, 0]  [2, 2, 0, 0]  [4, 3, 0, 0]  [3, 1, 0, 0]  [3, 4, 5, 0]   \n",
       "Classe2  [3, 1, 0, 0]  [4, 2, 0, 4]  [3, 3, 0, 0]  [4, 4, 0, 2]  [6, 5, 0, 0]   \n",
       "\n",
       "         Assignatura6  Assignatura7  \n",
       "Classe1  [3, 4, 0, 7]  [3, 6, 0, 6]  \n",
       "Classe2  [2, 6, 0, 0]  [2, 1, 0, 0]  "
      ]
     },
     "execution_count": 1,
     "metadata": {},
     "output_type": "execute_result"
    }
   ],
   "source": [
    "import pandas as pd\n",
    "import numpy as np\n",
    "from random import randrange\n",
    "#Si una classe no fa una assignatura posarem zeros\n",
    "ClasseAssignatura=pd.DataFrame(columns=['Assignatura1','Assignatura2','Assignatura3','Assignatura4','Assignatura5','Assignatura6','Assignatura7'],\n",
    "                              index=['Classe1','Classe2'])\n",
    "\n",
    "#[slots,professor1,professorSC,AssignaturaCT]\n",
    "ClasseAssignatura.head()\n",
    "ClasseAssignatura.Assignatura1=[[3,1,0,0],[3,1,0,0]]\n",
    "ClasseAssignatura.Assignatura2=[[2,2,0,0],[4,2,0,4]]\n",
    "ClasseAssignatura.Assignatura3=[[4,3,0,0],[3,3,0,0]]\n",
    "ClasseAssignatura.Assignatura4=[[3,1,0,0],[4,4,0,2]]\n",
    "ClasseAssignatura.Assignatura5=[[3,4,5,0],[6,5,0,0]]\n",
    "ClasseAssignatura.Assignatura6=[[3,4,0,7],[2,6,0,0]]\n",
    "ClasseAssignatura.Assignatura7=[[3,6,0,6],[2,1,0,0]]\n",
    "\n",
    "numTeahers=6\n",
    "\n",
    "print(ClasseAssignatura.head())\n",
    "TeacherNoDays=[np.arange(1,8),np.concatenate((np.arange(8,15),np.arange(29,36))),0,0,0,0]\n",
    "print(TeacherNoDays)\n",
    "\n",
    "ClasseAssignatura.head()"
   ]
  },
  {
   "cell_type": "code",
   "execution_count": 3,
   "metadata": {},
   "outputs": [
    {
     "name": "stdout",
     "output_type": "stream",
     "text": [
      "[[[3, 1, 0, 0], [2, 2, 0, 0], [4, 3, 0, 0], [3, 1, 0, 0], [3, 4, 5, 0], [3, 4, 0, 7], [3, 6, 0, 6]], [[3, 1, 0, 0], [4, 2, 0, 4], [3, 3, 0, 0], [4, 4, 0, 2], [6, 5, 0, 0], [2, 6, 0, 0], [2, 1, 0, 0]]]\n",
      " \n",
      "[[[3, 1, 0, 0], [2, 2, 0, 0], [4, 3, 0, 0], [3, 1, 0, 0], [3, 4, 5, 0], [3, 4, 0, 7], [3, 6, 0, 6]], [[3, 1, 0, 0], [4, 2, 0, 4], [3, 3, 0, 0], [4, 4, 0, 2], [6, 5, 0, 0], [2, 6, 0, 0], [2, 1, 0, 0]]]\n",
      "C2 [[[3, 1, 0, 0], [2, 2, 0, 0], [4, 3, 0, 0], [3, 1, 0, 0], [3, 4, 5, 0], [3, 4, 0, 7], [3, 6, 0, 6]], [[3, 1, 0, 0], [4, 2, 0, 4], [3, 3, 0, 0], [4, 4, 0, 2], [6, 5, 0, 0], [2, 6, 0, 0], [2, 1, 0, 0]]]\n",
      " \n",
      "C3 [[[3, 1, 0, 0], [2, 2, 0, 0], [4, 3, 0, 0], [3, 1, 0, 0], [3, 4, 5, 0], [3, 4, 0, 7], [3, 6, 0, 6]], [[3, 1, 0, 0], [4, 2, 0, 4], [3, 3, 0, 0], [4, 4, 0, 2], [6, 5, 0, 0], [2, 6, 0, 0], [2, 1, 0, 0]]]\n"
     ]
    }
   ],
   "source": [
    "import copy\n",
    "\n",
    "\n",
    "ClasseAssignatura2=[[[3,1,0,0],[2,2,0,0],[4,3,0,0],[3,1,0,0],[3,4,5,0],[3,4,0,7],[3,6,0,6]],\n",
    "                    [[3,1,0,0],[4,2,0,4],[3,3,0,0],[4,4,0,2],[6,5,0,0],[2,6,0,0],[2,1,0,0]]]\n",
    "print(ClasseAssignatura2)\n",
    "print(\" \")\n",
    "ClasseAssignatura3 = ClasseAssignatura2[:]\n",
    "print(ClasseAssignatura3)\n",
    "#ClasseAssignatura3[0]=\"copia\"\n",
    "\n",
    "print(\"C2\",ClasseAssignatura2)\n",
    "print(\" \")\n",
    "print(\"C3\",ClasseAssignatura3)"
   ]
  },
  {
   "cell_type": "code",
   "execution_count": 4,
   "metadata": {},
   "outputs": [
    {
     "data": {
      "text/plain": [
       "[[[3, 1, 0, 0],\n",
       "  [2, 2, 0, 0],\n",
       "  [4, 3, 0, 0],\n",
       "  [3, 1, 0, 0],\n",
       "  [3, 4, 5, 0],\n",
       "  [3, 4, 0, 7],\n",
       "  [3, 6, 0, 6]],\n",
       " [[3, 1, 0, 0],\n",
       "  [4, 2, 0, 4],\n",
       "  [3, 3, 0, 0],\n",
       "  [4, 4, 0, 2],\n",
       "  [6, 5, 0, 0],\n",
       "  [2, 6, 0, 0],\n",
       "  [2, 1, 0, 0]]]"
      ]
     },
     "execution_count": 4,
     "metadata": {},
     "output_type": "execute_result"
    }
   ],
   "source": [
    "ClasseAssignatura2"
   ]
  },
  {
   "cell_type": "code",
   "execution_count": 7,
   "metadata": {},
   "outputs": [],
   "source": [
    "classes=2\n",
    "TimeP=35\n",
    "Chromo=np.zeros((classes, TimeP))\n",
    "Chromo=Chromo.tolist()\n",
    "population=1\n",
    "TeachingHours=np.array([11,6,7,10,9,5])\n",
    "ZerosT=np.zeros((len(TeachingHours),),dtype=int)\n",
    "ZerosT=TeachingHours*0\n",
    "ClassesProfe=[]\n",
    "numTeachers=6\n",
    "Thours=np.zeros((classes, numTeachers),dtype=int)\n",
    "Thours=Thours.tolist()"
   ]
  },
  {
   "cell_type": "code",
   "execution_count": 6,
   "metadata": {},
   "outputs": [
    {
     "ename": "NameError",
     "evalue": "name 'classes' is not defined",
     "output_type": "error",
     "traceback": [
      "\u001b[1;31m---------------------------------------------------------------------------\u001b[0m",
      "\u001b[1;31mNameError\u001b[0m                                 Traceback (most recent call last)",
      "\u001b[1;32m<ipython-input-6-42973220d19e>\u001b[0m in \u001b[0;36m<module>\u001b[1;34m\u001b[0m\n\u001b[1;32m----> 1\u001b[1;33m \u001b[0mThours\u001b[0m\u001b[1;33m=\u001b[0m\u001b[0mnp\u001b[0m\u001b[1;33m.\u001b[0m\u001b[0mzeros\u001b[0m\u001b[1;33m(\u001b[0m\u001b[1;33m(\u001b[0m\u001b[0mclasses\u001b[0m\u001b[1;33m,\u001b[0m \u001b[0mnumTeachers\u001b[0m\u001b[1;33m)\u001b[0m\u001b[1;33m,\u001b[0m\u001b[0mdtype\u001b[0m\u001b[1;33m=\u001b[0m\u001b[0mint\u001b[0m\u001b[1;33m)\u001b[0m\u001b[1;33m\u001b[0m\u001b[1;33m\u001b[0m\u001b[0m\n\u001b[0m\u001b[0;32m      2\u001b[0m \u001b[0mThours\u001b[0m\u001b[1;33m=\u001b[0m\u001b[0mThours\u001b[0m\u001b[1;33m.\u001b[0m\u001b[0mtolist\u001b[0m\u001b[1;33m(\u001b[0m\u001b[1;33m)\u001b[0m\u001b[1;33m\u001b[0m\u001b[1;33m\u001b[0m\u001b[0m\n",
      "\u001b[1;31mNameError\u001b[0m: name 'classes' is not defined"
     ]
    }
   ],
   "source": []
  },
  {
   "cell_type": "code",
   "execution_count": 8,
   "metadata": {},
   "outputs": [
    {
     "name": "stdout",
     "output_type": "stream",
     "text": [
      "[[0, 0, 0, 0, 0, 0], [0, 0, 0, 0, 0, 0]]\n"
     ]
    }
   ],
   "source": [
    "def Calculate_TeachingHours():\n",
    "    c=0\n",
    "    for classe in ClasseAssignatura2:\n",
    "        \n",
    "        for assignatura in classe:\n",
    "            professor=assignatura[1]\n",
    "            hores=assignatura[0]\n",
    "            Thours[c][professor-1]=Thours[c][professor-1]+hores\n",
    "            #Si hi ha SC:\n",
    "            if assignatura[2]!=0:\n",
    "                profeSC=assignatura[2]\n",
    "                Thours[c][profeSC-1]=Thours[c][profeSC-1]+hores       \n",
    "        c=c+1;\n",
    "\n",
    "print(Thours)\n",
    "#print(\" \")\n",
    "#print(ClasseAssignatura2)\n",
    "\n",
    "    "
   ]
  },
  {
   "cell_type": "code",
   "execution_count": 9,
   "metadata": {},
   "outputs": [
    {
     "name": "stdout",
     "output_type": "stream",
     "text": [
      "[[6, 2, 4, 6, 3, 3], [5, 4, 3, 4, 6, 2]]\n"
     ]
    },
    {
     "data": {
      "text/plain": [
       "[5, 4, 3, 4, 6, 2]"
      ]
     },
     "execution_count": 9,
     "metadata": {},
     "output_type": "execute_result"
    }
   ],
   "source": [
    "Thours=np.zeros((classes, numTeachers),dtype=int)\n",
    "Thours=Thours.tolist()\n",
    "Calculate_TeachingHours()\n",
    "print(Thours)\n",
    "Thours[1]"
   ]
  },
  {
   "cell_type": "code",
   "execution_count": 10,
   "metadata": {},
   "outputs": [],
   "source": [
    "#Recorrem les assignatures d'una classe\n",
    "#[slots,professor1,professorSC,AssignaturaCT]\n",
    "\n",
    "def decrementarHores(teacher,classe,Thours):\n",
    "    #Recorrem les assignatures de la classe buscant les que fa el profe teacher\n",
    "    #c= assignatures de la classe 1\n",
    "    \n",
    "    idxAssigntr=0\n",
    "    print(\"profe= \", teacher)\n",
    "    c=ClasseAssignatura3[classe]\n",
    "    print(\"c\",c)\n",
    "    for assignatura in c:\n",
    "        print(\"assignatura[1]==teacher\",assignatura[1]==teacher)\n",
    "        print(\"assignatura[0]>0\",assignatura[0]>0)\n",
    "        if assignatura[1]==teacher and assignatura[0]>0:\n",
    "            #Decrementam \n",
    "            ClasseAssignatura3[classe][idxAssigntr][0]=ClasseAssignatura3[classe][idxAssigntr][0]-1\n",
    "            Thours[classe][teacher-1]=Thours[classe][teacher-1]-1\n",
    "            teachers=[teacher,0]\n",
    "            print(\"cas1\")\n",
    "            #si hi ha SC\n",
    "            if ClasseAssignatura3[classe][idxAssigntr][3]!=0:\n",
    "                teacher2=ClasseAssignatura3[classe][idxAssigntr][3]\n",
    "                Thours[classe][teacher2-1]=Thours[classe][teacher2-1]-1\n",
    "                teachers=[teacher,teacher2]\n",
    "                print(\"cas2\")\n",
    "            #Si hi ha coteaching:\n",
    "            if ClasseAssignatura3[classe][idxAssigntr][3]!=0:\n",
    "                #Seleccionam el valor de l'index de l'assignatura amb la que hi ha coteaching\n",
    "                AssigCT=ClasseAssignatura3[classe][idxAssigntr][3]\n",
    "                #Decrementam en 1h les hores pendents d'assignar de l'assignatura de CT\n",
    "                ClasseAssignatura3[classe][AssigCT][0]=ClasseAssignatura3[classe][AssigCT][0]-1\n",
    "                TeacherSC=ClasseAssignatura3[classe][AssigCT][1]\n",
    "                Thours[classe][teacherSC-1]=Thours[classe][teacherSC-1]-1\n",
    "                teachers=[teacher,teacherSC]\n",
    "                print(\"cas3\")\n",
    "            \n",
    "            break\n",
    "                \n",
    "        idxAssigntr=idxAssigntr+1\n",
    "    c=ClasseAssignatura3[classe]\n",
    "    print(\"c\",c)\n",
    "    #print(\"ClasseAssignatura3 decrem\",ClasseAssignatura3)\n",
    "    return Thours,teachers\n",
    "                \n",
    "        "
   ]
  },
  {
   "cell_type": "code",
   "execution_count": 7,
   "metadata": {},
   "outputs": [
    {
     "name": "stdout",
     "output_type": "stream",
     "text": [
      "[0 0 0 0 0 0]\n",
      "[[6, 2, 4, 6, 3, 3], [5, 4, 3, 4, 6, 2]]\n"
     ]
    }
   ],
   "source": [
    "ZerosT=np.zeros((len(TeachingHours),),dtype=int)\n",
    "ZerosT=TeachingHours*0\n",
    "print(ZerosT)\n",
    "print(Thours)"
   ]
  },
  {
   "cell_type": "code",
   "execution_count": 47,
   "metadata": {},
   "outputs": [
    {
     "name": "stdout",
     "output_type": "stream",
     "text": [
      "[[10, 0, 4, 4, 0, 6], [10, 8, 6, 8, 12, 4]]\n"
     ]
    }
   ],
   "source": [
    "Calculate_TeachingHours()\n",
    "print(Thours)\n"
   ]
  },
  {
   "cell_type": "code",
   "execution_count": 80,
   "metadata": {},
   "outputs": [
    {
     "name": "stdout",
     "output_type": "stream",
     "text": [
      "Thours [[5, 0, 3, 2, 0, 3], [5, 4, 3, 4, 6, 2]]\n"
     ]
    },
    {
     "data": {
      "text/plain": [
       "[5, 0, 3, 2, 0, 3]"
      ]
     },
     "execution_count": 80,
     "metadata": {},
     "output_type": "execute_result"
    }
   ],
   "source": [
    "classes=2\n",
    "TimeP=35\n",
    "Chromo=np.zeros((classes, TimeP))\n",
    "Chromo=Chromo.tolist()\n",
    "population=1\n",
    "TeachingHours=np.array([11,6,7,10,9,5])\n",
    "ZerosT=np.zeros((len(TeachingHours),),dtype=int)\n",
    "ZerosT=TeachingHours*0\n",
    "ClassesProfe=[]\n",
    "numTeachers=6\n",
    "\n",
    "Thours=np.zeros((classes, numTeachers),dtype=int)\n",
    "Thours=Thours.tolist()\n",
    "Calculate_TeachingHours()\n",
    "print(\"Thours\",Thours)\n",
    "Thours[0]\n",
    "Thours[0]"
   ]
  },
  {
   "cell_type": "code",
   "execution_count": 14,
   "metadata": {},
   "outputs": [
    {
     "name": "stdout",
     "output_type": "stream",
     "text": [
      "[[[0, 1, 0, 0], [0, 2, 0, 0], [0, 3, 0, 0], [2, 1, 0, 0], [0, 4, 5, 0], [1, 4, 0, 7], [3, 6, 0, 6]], [[3, 1, 0, 0], [4, 2, 0, 4], [3, 3, 0, 0], [4, 4, 0, 2], [6, 5, 0, 0], [2, 6, 0, 0], [2, 1, 0, 0]]]\n",
      "[[2, 0, 0, 1, 0, 3], [5, 4, 3, 4, 6, 2]]\n",
      " \n",
      "[[[0, 1, 0, 0], [0, 2, 0, 0], [0, 3, 0, 0], [2, 1, 0, 0], [0, 4, 5, 0], [1, 4, 0, 7], [3, 6, 0, 6]], [[3, 1, 0, 0], [4, 2, 0, 4], [3, 3, 0, 0], [4, 4, 0, 2], [6, 5, 0, 0], [2, 6, 0, 0], [2, 1, 0, 0]]]\n"
     ]
    }
   ],
   "source": [
    "print(ClasseAssignatura2)\n",
    "Thours=np.zeros((classes, numTeachers),dtype=int)\n",
    "Thours=Thours.tolist()\n",
    "Thours\n",
    "\n",
    "#Calculate_TeachingHours()\n",
    "c=0;#Índex de la classe\n",
    "for classe in ClasseAssignatura2:\n",
    "    for assignatura in classe:\n",
    "        professor=assignatura[1]\n",
    "        hores=assignatura[0]\n",
    "        Thours[c][professor-1]=Thours[c][professor-1]+hores\n",
    "        #Si hi ha SC:\n",
    "        if assignatura[2]!=0:\n",
    "            profeSC=assignatura[2]\n",
    "            Thours[c][profeSC-1]=Thours[c][profeSC-1]+hores       \n",
    "    c=c+1;\n",
    "    \n",
    "print(Thours)\n",
    "print(\" \")\n",
    "print(ClasseAssignatura2)\n"
   ]
  },
  {
   "cell_type": "code",
   "execution_count": 12,
   "metadata": {},
   "outputs": [
    {
     "name": "stdout",
     "output_type": "stream",
     "text": [
      "classe=  0\n",
      "[2, 0, 0, 2, 3, 3]\n",
      "hello\n",
      "teacher 2\n",
      "teacher 4\n",
      "thours 2\n",
      "selected teacher 4\n",
      "decrementam \n",
      "profe=  4\n",
      "c [[0, 1, 0, 0], [0, 2, 0, 0], [0, 3, 0, 0], [2, 1, 0, 0], [0, 4, 5, 0], [2, 4, 0, 7], [3, 6, 0, 6]]\n",
      "assignatura[1]==teacher False\n",
      "assignatura[0]>0 False\n",
      "assignatura[1]==teacher False\n",
      "assignatura[0]>0 False\n",
      "assignatura[1]==teacher False\n",
      "assignatura[0]>0 False\n",
      "assignatura[1]==teacher False\n",
      "assignatura[0]>0 True\n",
      "assignatura[1]==teacher True\n",
      "assignatura[0]>0 False\n",
      "assignatura[1]==teacher True\n",
      "assignatura[0]>0 True\n",
      "cas1\n"
     ]
    },
    {
     "ename": "IndexError",
     "evalue": "list index out of range",
     "output_type": "error",
     "traceback": [
      "\u001b[1;31m---------------------------------------------------------------------------\u001b[0m",
      "\u001b[1;31mIndexError\u001b[0m                                Traceback (most recent call last)",
      "\u001b[1;32m<ipython-input-12-9e571c172356>\u001b[0m in \u001b[0;36m<module>\u001b[1;34m\u001b[0m\n\u001b[0;32m     23\u001b[0m                 \u001b[0mprint\u001b[0m\u001b[1;33m(\u001b[0m\u001b[1;34m\"selected teacher\"\u001b[0m\u001b[1;33m,\u001b[0m \u001b[0mteacher\u001b[0m\u001b[1;33m)\u001b[0m\u001b[1;33m\u001b[0m\u001b[1;33m\u001b[0m\u001b[0m\n\u001b[0;32m     24\u001b[0m                 \u001b[0mprint\u001b[0m\u001b[1;33m(\u001b[0m\u001b[1;34m\"decrementam \"\u001b[0m\u001b[1;33m)\u001b[0m\u001b[1;33m\u001b[0m\u001b[1;33m\u001b[0m\u001b[0m\n\u001b[1;32m---> 25\u001b[1;33m                 \u001b[0mThours\u001b[0m\u001b[1;33m,\u001b[0m\u001b[0mteachers\u001b[0m\u001b[1;33m=\u001b[0m\u001b[0mdecrementarHores\u001b[0m\u001b[1;33m(\u001b[0m\u001b[0mteacher\u001b[0m\u001b[1;33m,\u001b[0m\u001b[0mclasse\u001b[0m\u001b[1;33m,\u001b[0m\u001b[0mThours\u001b[0m\u001b[1;33m)\u001b[0m\u001b[1;33m\u001b[0m\u001b[1;33m\u001b[0m\u001b[0m\n\u001b[0m\u001b[0;32m     26\u001b[0m                 \u001b[0mChromo\u001b[0m\u001b[1;33m[\u001b[0m\u001b[0mclasse\u001b[0m\u001b[1;33m]\u001b[0m\u001b[1;33m[\u001b[0m\u001b[0mhour\u001b[0m\u001b[1;33m]\u001b[0m\u001b[1;33m=\u001b[0m\u001b[0mteachers\u001b[0m\u001b[1;33m\u001b[0m\u001b[1;33m\u001b[0m\u001b[0m\n\u001b[0;32m     27\u001b[0m                 \u001b[0mprint\u001b[0m\u001b[1;33m(\u001b[0m\u001b[1;34m\"TeacherHours, teachers :\"\u001b[0m\u001b[1;33m,\u001b[0m\u001b[0mThours\u001b[0m\u001b[1;33m[\u001b[0m\u001b[0mclasse\u001b[0m\u001b[1;33m]\u001b[0m\u001b[1;33m,\u001b[0m \u001b[0mteachers\u001b[0m\u001b[1;33m)\u001b[0m\u001b[1;33m\u001b[0m\u001b[1;33m\u001b[0m\u001b[0m\n",
      "\u001b[1;32m<ipython-input-10-e7fd9423f164>\u001b[0m in \u001b[0;36mdecrementarHores\u001b[1;34m(teacher, classe, Thours)\u001b[0m\n\u001b[0;32m     21\u001b[0m             \u001b[1;32mif\u001b[0m \u001b[0mClasseAssignatura3\u001b[0m\u001b[1;33m[\u001b[0m\u001b[0mclasse\u001b[0m\u001b[1;33m]\u001b[0m\u001b[1;33m[\u001b[0m\u001b[0midxAssigntr\u001b[0m\u001b[1;33m]\u001b[0m\u001b[1;33m[\u001b[0m\u001b[1;36m3\u001b[0m\u001b[1;33m]\u001b[0m\u001b[1;33m!=\u001b[0m\u001b[1;36m0\u001b[0m\u001b[1;33m:\u001b[0m\u001b[1;33m\u001b[0m\u001b[1;33m\u001b[0m\u001b[0m\n\u001b[0;32m     22\u001b[0m                 \u001b[0mteacher2\u001b[0m\u001b[1;33m=\u001b[0m\u001b[0mClasseAssignatura3\u001b[0m\u001b[1;33m[\u001b[0m\u001b[0mclasse\u001b[0m\u001b[1;33m]\u001b[0m\u001b[1;33m[\u001b[0m\u001b[0midxAssigntr\u001b[0m\u001b[1;33m]\u001b[0m\u001b[1;33m[\u001b[0m\u001b[1;36m3\u001b[0m\u001b[1;33m]\u001b[0m\u001b[1;33m\u001b[0m\u001b[1;33m\u001b[0m\u001b[0m\n\u001b[1;32m---> 23\u001b[1;33m                 \u001b[0mThours\u001b[0m\u001b[1;33m[\u001b[0m\u001b[0mclasse\u001b[0m\u001b[1;33m]\u001b[0m\u001b[1;33m[\u001b[0m\u001b[0mteacher2\u001b[0m\u001b[1;33m-\u001b[0m\u001b[1;36m1\u001b[0m\u001b[1;33m]\u001b[0m\u001b[1;33m=\u001b[0m\u001b[0mThours\u001b[0m\u001b[1;33m[\u001b[0m\u001b[0mclasse\u001b[0m\u001b[1;33m]\u001b[0m\u001b[1;33m[\u001b[0m\u001b[0mteacher2\u001b[0m\u001b[1;33m-\u001b[0m\u001b[1;36m1\u001b[0m\u001b[1;33m]\u001b[0m\u001b[1;33m-\u001b[0m\u001b[1;36m1\u001b[0m\u001b[1;33m\u001b[0m\u001b[1;33m\u001b[0m\u001b[0m\n\u001b[0m\u001b[0;32m     24\u001b[0m                 \u001b[0mteachers\u001b[0m\u001b[1;33m=\u001b[0m\u001b[1;33m[\u001b[0m\u001b[0mteacher\u001b[0m\u001b[1;33m,\u001b[0m\u001b[0mteacher2\u001b[0m\u001b[1;33m]\u001b[0m\u001b[1;33m\u001b[0m\u001b[1;33m\u001b[0m\u001b[0m\n\u001b[0;32m     25\u001b[0m                 \u001b[0mprint\u001b[0m\u001b[1;33m(\u001b[0m\u001b[1;34m\"cas2\"\u001b[0m\u001b[1;33m)\u001b[0m\u001b[1;33m\u001b[0m\u001b[1;33m\u001b[0m\u001b[0m\n",
      "\u001b[1;31mIndexError\u001b[0m: list index out of range"
     ]
    }
   ],
   "source": [
    "for i in range(population):\n",
    "    for classe in range(classes):\n",
    "        for hour in range(TimeP):\n",
    "            c=ClasseAssignatura2[classe]\n",
    "            ok=False\n",
    "            #Chose a teacher at random \n",
    "            print(\"classe= \",classe)\n",
    "            print(Thours[classe])\n",
    "            if np.array_equal(ZerosT,Thours[classe])==False:\n",
    "                print(\"hello\")\n",
    "                while ok==False:#mirar que no sigui que no et quedin profes i se quedi aqui infinitament\n",
    "                    teacher=randrange(1, numTeachers)\n",
    "                    print(\"teacher\",teacher)\n",
    "                    for i in c:\n",
    "                        #print(\"i\",i) \n",
    "                        #print(\"c\",c)\n",
    "                        #print(\"i[1]\",i[1])\n",
    "                        #print(Thours[classe][teacher-1])\n",
    "                        if(i[1]==teacher) and Thours[classe][teacher-1]!=0:\n",
    "                            ok=True\n",
    "                    #ok=True       \n",
    "                print(\"thours\",Thours[classe][teacher-1])\n",
    "                print(\"selected teacher\", teacher)\n",
    "                print(\"decrementam \")\n",
    "                Thours,teachers=decrementarHores(teacher,classe,Thours)\n",
    "                Chromo[classe][hour]=teachers\n",
    "                print(\"TeacherHours, teachers :\",Thours[classe], teachers)\n",
    "                print(\"classe\",classe)\n",
    "                print(\"hours\",hour)\n",
    "                print(teachers)\n",
    "                \n",
    "            \n",
    "                #Assignar slot buit\n",
    "            print(\"buit\")\n",
    "            \n",
    "        \n",
    "    break\n",
    "\n",
    "                            \n",
    "                \n",
    "\n",
    "                        \n",
    "                #Now we have a teacher!!!\n",
    "                #print(teacher)\n",
    "\n",
    "                #Decrementam les hores agafant una hora en concret d'una assignatura\n",
    "                \n",
    "                #TeachingHours[teacher-1]=TeachingHours[teacher-1]-1\n",
    "                #TeachingHours=a\n",
    "      \n",
    "\n",
    "        \n",
    "#Si algun teacher només està de subclasse mai el decrementa directament !Alerta!  "
   ]
  },
  {
   "cell_type": "code",
   "execution_count": 11,
   "metadata": {},
   "outputs": [
    {
     "data": {
      "text/plain": [
       "6"
      ]
     },
     "execution_count": 11,
     "metadata": {},
     "output_type": "execute_result"
    }
   ],
   "source": [
    "Thours[0][0]"
   ]
  },
  {
   "cell_type": "code",
   "execution_count": 12,
   "metadata": {},
   "outputs": [
    {
     "data": {
      "text/plain": [
       "0"
      ]
     },
     "execution_count": 12,
     "metadata": {},
     "output_type": "execute_result"
    }
   ],
   "source": [
    "Chromo=np.zeros((classes, TimeP),dtype=int)\n",
    "\n",
    "Chromo=Chromo.tolist()\n",
    "  \n",
    "Chromo[1][2]"
   ]
  },
  {
   "cell_type": "code",
   "execution_count": 13,
   "metadata": {},
   "outputs": [
    {
     "data": {
      "text/plain": [
       "[[3, 1, 0, 0],\n",
       " [2, 2, 0, 0],\n",
       " [3, 3, 0, 0],\n",
       " [3, 1, 0, 0],\n",
       " [3, 4, 5, 0],\n",
       " [3, 4, 0, 7],\n",
       " [3, 6, 0, 6]]"
      ]
     },
     "execution_count": 13,
     "metadata": {},
     "output_type": "execute_result"
    }
   ],
   "source": [
    "ClasseAssignatura2[0]"
   ]
  },
  {
   "cell_type": "code",
   "execution_count": 14,
   "metadata": {},
   "outputs": [
    {
     "data": {
      "text/plain": [
       "array([1, 2, 3, 4, 5, 6, 1, 2, 3, 4, 5, 6])"
      ]
     },
     "execution_count": 14,
     "metadata": {},
     "output_type": "execute_result"
    }
   ],
   "source": [
    "np.concatenate((np.arange(1,7),np.arange(1,7)))"
   ]
  },
  {
   "cell_type": "code",
   "execution_count": null,
   "metadata": {},
   "outputs": [],
   "source": []
  }
 ],
 "metadata": {
  "kernelspec": {
   "display_name": "Python 3",
   "language": "python",
   "name": "python3"
  },
  "language_info": {
   "codemirror_mode": {
    "name": "ipython",
    "version": 3
   },
   "file_extension": ".py",
   "mimetype": "text/x-python",
   "name": "python",
   "nbconvert_exporter": "python",
   "pygments_lexer": "ipython3",
   "version": "3.7.3"
  }
 },
 "nbformat": 4,
 "nbformat_minor": 2
}
