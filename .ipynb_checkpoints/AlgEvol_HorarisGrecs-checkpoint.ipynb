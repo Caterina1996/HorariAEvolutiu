{
 "cells": [
  {
   "cell_type": "code",
   "execution_count": 1,
   "metadata": {},
   "outputs": [],
   "source": [
    "import pandas as pd\n",
    "import numpy as np\n",
    "from random import randrange"
   ]
  },
  {
   "cell_type": "code",
   "execution_count": 2,
   "metadata": {},
   "outputs": [
    {
     "name": "stdout",
     "output_type": "stream",
     "text": [
      "[[[3, 1, 0, 0], [2, 2, 0, 0], [4, 3, 0, 0], [3, 1, 0, 0], [3, 4, 5, 0], [3, 4, 0, 7], [3, 6, 0, 6]], [[3, 1, 0, 0], [4, 2, 0, 4], [3, 3, 0, 0], [4, 4, 0, 2], [6, 5, 0, 0], [2, 6, 0, 0], [2, 1, 0, 0]]]\n"
     ]
    },
    {
     "data": {
      "text/plain": [
       "[[[3, 1, 0, 0],\n",
       "  [2, 2, 0, 0],\n",
       "  [4, 3, 0, 0],\n",
       "  [3, 1, 0, 0],\n",
       "  [3, 4, 5, 0],\n",
       "  [3, 4, 0, 7],\n",
       "  [3, 6, 0, 6]],\n",
       " [[3, 1, 0, 0],\n",
       "  [4, 2, 0, 4],\n",
       "  [3, 3, 0, 0],\n",
       "  [4, 4, 0, 2],\n",
       "  [6, 5, 0, 0],\n",
       "  [2, 6, 0, 0],\n",
       "  [2, 1, 0, 0]]]"
      ]
     },
     "execution_count": 2,
     "metadata": {},
     "output_type": "execute_result"
    }
   ],
   "source": [
    "ClasseAssignatura2=[[[3,1,0,0],[2,2,0,0],[4,3,0,0],[3,1,0,0],[3,4,5,0],[3,4,0,7],[3,6,0,6]],\n",
    "                    [[3,1,0,0],[4,2,0,4],[3,3,0,0],[4,4,0,2],[6,5,0,0],[2,6,0,0],[2,1,0,0]]]\n",
    "numTeahers=6\n",
    "print(ClasseAssignatura2)\n",
    "ClasseAssignatura3=ClasseAssignatura2[:]\n",
    "ClasseAssignatura3"
   ]
  },
  {
   "cell_type": "code",
   "execution_count": null,
   "metadata": {},
   "outputs": [],
   "source": []
  }
 ],
 "metadata": {
  "kernelspec": {
   "display_name": "Python 3",
   "language": "python",
   "name": "python3"
  },
  "language_info": {
   "codemirror_mode": {
    "name": "ipython",
    "version": 3
   },
   "file_extension": ".py",
   "mimetype": "text/x-python",
   "name": "python",
   "nbconvert_exporter": "python",
   "pygments_lexer": "ipython3",
   "version": "3.7.3"
  }
 },
 "nbformat": 4,
 "nbformat_minor": 2
}
